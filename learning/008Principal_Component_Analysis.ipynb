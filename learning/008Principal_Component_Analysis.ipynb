{
 "cells": [
  {
   "metadata": {},
   "cell_type": "markdown",
   "source": "主成分分析法(Principal Component Analysis, PCA)是一种降维算法，能够将多个指标转换为少数几个主成分。这几个主成分是原始变量的线性组合且彼此之间互不相关，能够反映出原始数据的大部分信息。当研究问题涉及多变量且多变量之间存在很强的相关性时，可考虑使用主成分分析法来对数据进行化简。",
   "id": "242347b9049f1f16"
  },
  {
   "metadata": {},
   "cell_type": "markdown",
   "source": "PCA算法过程：将原来的数据矩阵X按照列进行标准化得到X_std, 然后再得到协方差矩阵X^T_std * X_std / (n-1)。协方差矩阵是一个n*n的方阵（n为X的特征数），那么就存在特征值和特征向量。 特征向量表示数据中重要的方向，实际上就是主成分；特征值表示该特征向量对应方向的方差，即该方向能够解释的数据的变异性。我们需要保留方差最大的方向，这意味着在该方向上数据变化最大，能够反映更多的信息。于是需要设定保留的特征向量的个数，组成一个矩阵I。然后使用X_std * I得到降维后的数据矩阵。",
   "id": "2b8e5f9068707272"
  },
  {
   "metadata": {},
   "cell_type": "markdown",
   "source": "另外还可以使用PCA判断一组特征中的相关性和谁对于结果的影响最大。",
   "id": "dab69716afdd83d1"
  },
  {
   "cell_type": "code",
   "id": "initial_id",
   "metadata": {
    "collapsed": true,
    "ExecuteTime": {
     "end_time": "2024-12-01T05:03:17.796642Z",
     "start_time": "2024-12-01T05:03:17.758398Z"
    }
   },
   "source": [
    "from sklearn.decomposition import PCA\n",
    "from sklearn.preprocessing import StandardScaler\n",
    "import pandas as pd\n",
    "\n",
    "\n",
    "def principal_component_analysis(chart):\n",
    "    # 先对数据进行标准化处理。\n",
    "    scaler = StandardScaler()\n",
    "    scaled_chart = scaler.fit_transform(chart)\n",
    "    \n",
    "    # 初始化算法，设置主成分的个数。\n",
    "    pca = PCA(n_components=2)\n",
    "    # 得到分析的结果，降维后的数据矩阵。\n",
    "    # fit_transform方法会自动选择方差最大的两个特征向量，组成矩阵。\n",
    "    pca_result = pca.fit_transform(scaled_chart)\n",
    "    \n",
    "    print(pca_result)\n",
    "    # 打印出这两个特征向量对应的方差（特征值）。\n",
    "    print(pca.explained_variance_ratio_)\n",
    "    # 打印出每个特征对于每个主成分的荷载矩阵，值越大表明该特征和该主成分正相关程度越高。\n",
    "    print(pca.components_)\n",
    "    \n",
    "    \n",
    "chart = pd.DataFrame(\n",
    "    {'a': [1, 3, 2, 5, 4, 3, 2, 5, 4, 3, 2, 5, 4, 3, 2, 5, 4, 3, 2, 5],\n",
    "     'b': [1, 2, 4, 1, 7, 6, 5, 4, 3, 2, 5, 4, 3, 2, 5, 4, 3, 2, 5, 77],\n",
    "     'c': [23, 2, 1, 4, 88, 5, 6, 3, 2, 5, 4, 3, 2, 5, 4, 3, 2, 5, 33, 21], \n",
    "     'd': [2, 4, 5, 0, 3, 23, 11, 22, 12, 23, 11, 54, 23, 34, 55, 12, 2, 1, 0, 9],\n",
    "     'e': [2, 4, 5, 33, 3, 1, 2, 3, 4, 2, 1, 7, 7, 7, 7, 7, 7, 7, 7, 3],\n",
    "     'f': [10, 67, 5, 33, 9, 2, 4, 5, 7, 7, 7, 7, 7, 7, 7, 7, 7, 7, 9, 0]\n",
    "     }\n",
    ")\n",
    "principal_component_analysis(chart)\n",
    "    "
   ],
   "outputs": [
    {
     "name": "stdout",
     "output_type": "stream",
     "text": [
      "[[-0.77239319 -0.97775605]\n",
      " [ 2.38478398 -0.73859669]\n",
      " [-0.31020435 -0.78110685]\n",
      " [ 4.29781524  1.2221686 ]\n",
      " [-0.96132776  1.97985148]\n",
      " [-0.92045712 -0.54416249]\n",
      " [-0.79457897 -0.81360315]\n",
      " [-0.11835118  0.31439872]\n",
      " [ 0.00635273 -0.02839775]\n",
      " [-0.54778621 -0.70494744]\n",
      " [-0.74654206 -0.89778034]\n",
      " [-0.02979152 -0.11646098]\n",
      " [ 0.16865257 -0.12910897]\n",
      " [-0.18836087 -0.75210828]\n",
      " [-0.68871916 -1.46127636]\n",
      " [ 0.47950963  0.57477039]\n",
      " [ 0.42330315  0.21650672]\n",
      " [ 0.21180432 -0.20899791]\n",
      " [-0.27406333  0.01898001]\n",
      " [-1.6196459   3.8276273 ]]\n",
      "[0.26514086 0.23074233]\n",
      "[[ 0.25468312 -0.27433218 -0.22477481 -0.19470417  0.6504208   0.59025225]\n",
      " [ 0.57198412  0.64037265  0.39387399 -0.2642555   0.1766909  -0.08105347]]\n"
     ]
    }
   ],
   "execution_count": 25
  }
 ],
 "metadata": {
  "kernelspec": {
   "display_name": "Python 3",
   "language": "python",
   "name": "python3"
  },
  "language_info": {
   "codemirror_mode": {
    "name": "ipython",
    "version": 2
   },
   "file_extension": ".py",
   "mimetype": "text/x-python",
   "name": "python",
   "nbconvert_exporter": "python",
   "pygments_lexer": "ipython2",
   "version": "2.7.6"
  }
 },
 "nbformat": 4,
 "nbformat_minor": 5
}
