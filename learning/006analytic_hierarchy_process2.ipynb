{
 "cells": [
  {
   "metadata": {},
   "cell_type": "markdown",
   "source": "检验矩阵是否是正互反矩阵。矩阵为方阵，对角线为1，对称位置上的元素互为倒数。",
   "id": "afa3814e62ecb131"
  },
  {
   "cell_type": "code",
   "id": "initial_id",
   "metadata": {
    "collapsed": true,
    "ExecuteTime": {
     "end_time": "2024-12-01T05:35:09.152657Z",
     "start_time": "2024-12-01T05:35:09.023765Z"
    }
   },
   "source": [
    "import numpy as np\n",
    "\n",
    "\n",
    "def is_reciprocal(matrix):\n",
    "    if matrix.ndim != 2:\n",
    "        return False\n",
    "    \n",
    "    if matrix.shape[0] != matrix.shape[1]:\n",
    "        return False\n",
    "    \n",
    "    if not all([matrix[i][j] * matrix[j][i] == 1 for i in range(matrix.shape[0]) for j in range(matrix.shape[1])]):\n",
    "        return False\n",
    "    \n",
    "    return True\n",
    "\n",
    "\n",
    "m1 = np.array([[1, 3, 5], [1/3, 1, 2], [1/5, 1/2, 1]])\n",
    "print(is_reciprocal(m1))\n",
    "\n",
    "m2 = np.array([2, 3, 1, 5, 3, 7]).reshape(3, -1)\n",
    "print(is_reciprocal(m2))"
   ],
   "outputs": [
    {
     "name": "stdout",
     "output_type": "stream",
     "text": [
      "True\n",
      "False\n"
     ]
    }
   ],
   "execution_count": 2
  },
  {
   "metadata": {},
   "cell_type": "markdown",
   "source": [
    "判断正互反矩阵是否满足一致性要求：每一行(列)的元素之间的比例都相同。从统计学意义上来说，当CR=CI/RI<0.1时，认为满足一致性要求。其中CI=({\\lambda}_\n",
    "{max}-n)/(n-1)，RI和n有关，可以通过查表得到。其中{/lambda}_{max}是矩阵的最大特征值。\n"
   ],
   "id": "7080cbb320ef6f09"
  },
  {
   "metadata": {
    "ExecuteTime": {
     "end_time": "2024-12-01T05:35:09.164701Z",
     "start_time": "2024-12-01T05:35:09.154075Z"
    }
   },
   "cell_type": "code",
   "source": [
    "def get_max_eigenvalue(matrix):\n",
    "    eigen_values = np.linalg.eigvals(matrix)\n",
    "    return np.max(eigen_values)\n",
    "\n",
    "\n",
    "def is_consistent(matrix):\n",
    "    max_eigenvalue = get_max_eigenvalue(matrix)\n",
    "    n = matrix.shape[0]\n",
    "    \n",
    "    ci = (max_eigenvalue - n) / (n - 1)\n",
    "    ri = get_ri(n)\n",
    "    cr = ci / ri\n",
    "    \n",
    "    return cr < 0.1\n",
    "\n",
    "\n",
    "def get_ri(n):\n",
    "    table = {\n",
    "        1: 0, \n",
    "        2: 0, \n",
    "        3: 0.58,\n",
    "        4: 0.9,\n",
    "        5: 1.12,\n",
    "        6: 1.24,\n",
    "        7: 1.32,\n",
    "        8: 1.41,\n",
    "        9: 1.45,\n",
    "        10: 1.49\n",
    "    }\n",
    "    \n",
    "    return table[n]\n",
    "    \n",
    "\n",
    "m1 = np.array([[1, 3, 5], [1/3, 1, 2], [1/5, 1/2, 1]])\n",
    "m2 = np.array([1, 3, 2, 3, 9, 6, 2, 6, 4]).reshape(3, 3)\n",
    "print(is_consistent(m1))\n",
    "print(is_consistent(m2))"
   ],
   "id": "296c4421d9b8c035",
   "outputs": [
    {
     "name": "stdout",
     "output_type": "stream",
     "text": [
      "True\n",
      "False\n"
     ]
    }
   ],
   "execution_count": 3
  },
  {
   "metadata": {},
   "cell_type": "markdown",
   "source": "如果矩阵符合一致性，那么我们可以使用矩阵的最大特征值对应的特征向量的第一列作为权重。",
   "id": "1d97a1c72689276d"
  },
  {
   "metadata": {
    "ExecuteTime": {
     "end_time": "2024-12-01T06:04:33.495491Z",
     "start_time": "2024-12-01T06:04:33.471821Z"
    }
   },
   "cell_type": "code",
   "source": [
    "def get_weights(matrix):\n",
    "    # 计算特征值和特征向量。\n",
    "    eigen_values, eigenvectors = np.linalg.eig(matrix)\n",
    "    \n",
    "    # 找到最大特征值的索引。\n",
    "    max_eigenvalue_index = np.argmax(eigen_values)\n",
    "    \n",
    "    # 最大特征值对应的特征向量。\n",
    "    max_eigenvector = eigenvectors[:, max_eigenvalue_index]\n",
    "    \n",
    "    weights = [max_eigenvector[i] / sum(max_eigenvector) for i in range(matrix.shape[0])]\n",
    "    \n",
    "    return weights\n",
    "    \n",
    "    \n",
    "m1 = np.array([[1, 3, 5], [1/3, 1, 2], [1/5, 1/2, 1]])\n",
    "print(get_weights(m1))\n",
    "    "
   ],
   "id": "5c6d9638ec2603ad",
   "outputs": [
    {
     "data": {
      "text/plain": [
       "[np.complex128(0.6483290138222366+0j),\n",
       " np.complex128(0.2296507940626371+0j),\n",
       " np.complex128(0.12202019211512623+0j)]"
      ]
     },
     "execution_count": 9,
     "metadata": {},
     "output_type": "execute_result"
    }
   ],
   "execution_count": 9
  },
  {
   "metadata": {},
   "cell_type": "markdown",
   "source": "如果矩阵不符合一致性，我们需要得到每一列的权重，然后进行算数平均，得到最终的权重。",
   "id": "1a80e146ea96c05"
  },
  {
   "metadata": {
    "ExecuteTime": {
     "end_time": "2024-12-01T06:06:30.649287Z",
     "start_time": "2024-12-01T06:06:30.638179Z"
    }
   },
   "cell_type": "code",
   "source": [
    "def get_weights(matrix):\n",
    "    weights = [np.sum(matrix[i, :]) / np.sum(matrix) for i in range(matrix.shape[1])]\n",
    "    return weights\n",
    "\n",
    "\n",
    "m1 = np.array([[1, 3, 5], [1/3, 1, 2], [1/5, 1/2, 1]])\n",
    "print(get_weights(m1))"
   ],
   "id": "ae801962970d2296",
   "outputs": [
    {
     "data": {
      "text/plain": [
       "[np.float64(0.641330166270784),\n",
       " np.float64(0.23752969121140144),\n",
       " np.float64(0.12114014251781474)]"
      ]
     },
     "execution_count": 10,
     "metadata": {},
     "output_type": "execute_result"
    }
   ],
   "execution_count": 10
  },
  {
   "metadata": {},
   "cell_type": "markdown",
   "source": "给定第一列的元素，生成正互反矩阵。",
   "id": "9d25fa0c76205f57"
  },
  {
   "metadata": {
    "ExecuteTime": {
     "end_time": "2024-12-01T05:35:42.624089Z",
     "start_time": "2024-12-01T05:35:42.616142Z"
    }
   },
   "cell_type": "code",
   "source": [
    "def generate_reciprocal_matrix(column):\n",
    "    n = len(column)\n",
    "    matrix = np.array([1.0 for i in range(n*n)]).reshape(n, n)\n",
    "    ratio = [column[i] / column[i + 1] for i in range(n - 1)]\n",
    "    count = 0\n",
    "    \n",
    "    while count < n:\n",
    "        for i in range(count + 1, n):\n",
    "            matrix[i][count] = matrix[i - 1][count] / ratio[i - 1]\n",
    "            \n",
    "        for i in range(count - 1, -1, -1):\n",
    "            matrix[i][count] = matrix[i + 1][count] * ratio[i]\n",
    "        \n",
    "        count += 1\n",
    "    \n",
    "    return matrix\n",
    "\n",
    "\n",
    "print(generate_reciprocal_matrix([1, 2, 0.4]))\n",
    "    "
   ],
   "id": "fcc579aece271b80",
   "outputs": [
    {
     "name": "stdout",
     "output_type": "stream",
     "text": [
      "[[1.  0.5 2.5]\n",
      " [2.  1.  5. ]\n",
      " [0.4 0.2 1. ]]\n"
     ]
    }
   ],
   "execution_count": 8
  },
  {
   "metadata": {},
   "cell_type": "markdown",
   "source": "综合过程：列出一个表格，根据直觉完成第一列的不同属性的分配。调用generate_reciprocal_matrix函数，生成正互反矩阵。判断正互反矩阵的一致性，根据一致性的异同执行相应的get_weights函数，得到权重。",
   "id": "f8714c784ab13e6f"
  }
 ],
 "metadata": {
  "kernelspec": {
   "display_name": "Python 3",
   "language": "python",
   "name": "python3"
  },
  "language_info": {
   "codemirror_mode": {
    "name": "ipython",
    "version": 2
   },
   "file_extension": ".py",
   "mimetype": "text/x-python",
   "name": "python",
   "nbconvert_exporter": "python",
   "pygments_lexer": "ipython2",
   "version": "2.7.6"
  }
 },
 "nbformat": 4,
 "nbformat_minor": 5
}
